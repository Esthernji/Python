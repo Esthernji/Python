{
 "cells": [
  {
   "cell_type": "code",
   "execution_count": 1,
   "metadata": {},
   "outputs": [],
   "source": [
    "daysPerMonth = [31,28,31,30,31,30,31,31,30,31,30,31]\n",
    "days = [\"Monday\", \"Tuesday\",\"Wednesday\",\"Thursday\", \"Friday\", \"Saturday\" ,\"Sunday\"]\n",
    "months = [\"January\", \"February\" ,\"March\" ,\"April\" , \"May\" ,\"June\" , \"July\" ,\"August\" ,\"September\" , \"October\", \"November\" ,\"December\"]"
   ]
  },
  {
   "cell_type": "code",
   "execution_count": 2,
   "metadata": {},
   "outputs": [],
   "source": [
    "## First of January function\n",
    "def firstOfJanuary (year):\n",
    "    first =  5 * ((year - 1) % 4)\n",
    "    first = first + 4 * ((year - 1) % 100)\n",
    "    first = first + 6 * ((year - 1 )% 400)\n",
    "    first = first % 7\n",
    "    return first\n"
   ]
  },
  {
   "cell_type": "code",
   "execution_count": 3,
   "metadata": {},
   "outputs": [],
   "source": [
    "# Check whether it is a leap year\n",
    "def IsLeap(year):\n",
    "    if (year % 4 == 0 and year% 100 !=0) or (year % 400 == 0):\n",
    "        daysPerMonth[1] = 29\n",
    "        "
   ]
  },
  {
   "cell_type": "code",
   "execution_count": 4,
   "metadata": {},
   "outputs": [],
   "source": [
    "def birthDays(year,month,day):\n",
    "    global months\n",
    "    total = 0\n",
    "    if month == 1:\n",
    "        total = day - 1\n",
    "    else: \n",
    "        for x in range (0 , month):\n",
    "            total += daysPerMonth[x]\n",
    "            if (month != 1):\n",
    "                total += day -1\n",
    "                i = firstOfJanuary(year)\n",
    "                leap = IsLeap(year)\n",
    "                b = (i + total) % 7\n",
    "\n",
    "    print(\"Your birth day in \" , year , \"is on a \" , days[b], day ,\"/\" , months[month-1] , \"/\" , year ,\".\")\n"
   ]
  },
  {
   "cell_type": "code",
   "execution_count": 5,
   "metadata": {},
   "outputs": [],
   "source": [
    "def birtMonth(month,year):\n",
    "    total = 0\n",
    "    i = firstOfJanuary(year)\n",
    "    leap = IsLeap(year)\n",
    "    while total < (month-1):\n",
    "        i += daysPerMonth[total]\n",
    "        total+=1\n",
    "    start = i % 7\n",
    "    print(months[month-1] ,year)\n",
    "    print (\"Mo\\tTu\\tWe\\tTh\\tFr\\tSa\\tSu\") \n",
    "    date = 1 - start            \n",
    "    for rows in range (0 , 6):\n",
    "        for columns in range (0 , 7):    \n",
    "            if date <= 0:\n",
    "                print (\"\\t\", end='')\n",
    "            elif date > daysPerMonth [month - 1]:\n",
    "                 break\n",
    "            else:\n",
    "                print(date , \"\\t\", end ='')\n",
    "            date = date + 1\n",
    "        print(\" \")"
   ]
  },
  {
   "cell_type": "code",
   "execution_count": 6,
   "metadata": {},
   "outputs": [
    {
     "name": "stdout",
     "output_type": "stream",
     "text": [
      "Enter your day of birth 17\n",
      "Enter your month of birth 8\n",
      "Enter your year 2021\n",
      "\n",
      "\n",
      "Your birth day in  2021 is on a  Friday 17 / August / 2021 .\n",
      "\n",
      "\n",
      "August 2021\n",
      "Mo\tTu\tWe\tTh\tFr\tSa\tSu\n",
      "\t\t\t\t\t\t1 \t \n",
      "2 \t3 \t4 \t5 \t6 \t7 \t8 \t \n",
      "9 \t10 \t11 \t12 \t13 \t14 \t15 \t \n",
      "16 \t17 \t18 \t19 \t20 \t21 \t22 \t \n",
      "23 \t24 \t25 \t26 \t27 \t28 \t29 \t \n",
      "30 \t31 \t \n"
     ]
    }
   ],
   "source": [
    "## main function\n",
    "day = int(input(\"Enter your day of birth \"))\n",
    "month = int(input(\"Enter your month of birth \"))\n",
    "year = int(input(\"Enter your year \"))\n",
    "print(\"\\n\")\n",
    "firstOfJanuary (year)\n",
    "birthDays(year,month,day) \n",
    "print(\"\\n\")\n",
    "birtMonth(month,year)"
   ]
  },
  {
   "cell_type": "code",
   "execution_count": null,
   "metadata": {},
   "outputs": [],
   "source": []
  }
 ],
 "metadata": {
  "kernelspec": {
   "display_name": "Python 3",
   "language": "python",
   "name": "python3"
  },
  "language_info": {
   "codemirror_mode": {
    "name": "ipython",
    "version": 3
   },
   "file_extension": ".py",
   "mimetype": "text/x-python",
   "name": "python",
   "nbconvert_exporter": "python",
   "pygments_lexer": "ipython3",
   "version": "3.8.5"
  }
 },
 "nbformat": 4,
 "nbformat_minor": 2
}
